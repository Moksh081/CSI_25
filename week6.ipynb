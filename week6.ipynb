{
 "cells": [
  {
   "cell_type": "code",
   "execution_count": 1,
   "id": "7e5b2521",
   "metadata": {
    "_cell_guid": "b1076dfc-b9ad-4769-8c92-a6c4dae69d19",
    "_uuid": "8f2839f25d086af736a60e9eeb907d3b93b6e0e5",
    "execution": {
     "iopub.execute_input": "2025-07-09T10:18:33.119057Z",
     "iopub.status.busy": "2025-07-09T10:18:33.118717Z",
     "iopub.status.idle": "2025-07-09T10:18:37.166861Z",
     "shell.execute_reply": "2025-07-09T10:18:37.165975Z"
    },
    "papermill": {
     "duration": 4.054414,
     "end_time": "2025-07-09T10:18:37.168655",
     "exception": false,
     "start_time": "2025-07-09T10:18:33.114241",
     "status": "completed"
    },
    "tags": []
   },
   "outputs": [],
   "source": [
    "import numpy as np\n",
    "import pandas as pd\n",
    "from sklearn.model_selection import train_test_split, GridSearchCV, RandomizedSearchCV\n",
    "from sklearn.metrics import accuracy_score, precision_score, recall_score, f1_score, classification_report\n",
    "from sklearn.ensemble import RandomForestClassifier\n",
    "from sklearn.svm import SVC\n",
    "from sklearn.linear_model import LogisticRegression\n",
    "from sklearn.datasets import load_iris\n",
    "from sklearn.model_selection import GridSearchCV, RandomizedSearchCV\n"
   ]
  },
  {
   "cell_type": "code",
   "execution_count": 2,
   "id": "b4bc0504",
   "metadata": {
    "execution": {
     "iopub.execute_input": "2025-07-09T10:18:37.174607Z",
     "iopub.status.busy": "2025-07-09T10:18:37.174162Z",
     "iopub.status.idle": "2025-07-09T10:18:37.184449Z",
     "shell.execute_reply": "2025-07-09T10:18:37.183620Z"
    },
    "papermill": {
     "duration": 0.014462,
     "end_time": "2025-07-09T10:18:37.185806",
     "exception": false,
     "start_time": "2025-07-09T10:18:37.171344",
     "status": "completed"
    },
    "tags": []
   },
   "outputs": [],
   "source": [
    "# Example dataset: Iris\n",
    "data = load_iris()\n",
    "X = data.data\n",
    "y = data.target\n",
    "\n",
    "# Split the dataset\n",
    "X_train, X_test, y_train, y_test = train_test_split(X, y, test_size=0.2, random_state=42)\n"
   ]
  },
  {
   "cell_type": "code",
   "execution_count": 3,
   "id": "65802842",
   "metadata": {
    "execution": {
     "iopub.execute_input": "2025-07-09T10:18:37.191017Z",
     "iopub.status.busy": "2025-07-09T10:18:37.190737Z",
     "iopub.status.idle": "2025-07-09T10:18:37.451607Z",
     "shell.execute_reply": "2025-07-09T10:18:37.450540Z"
    },
    "papermill": {
     "duration": 0.265136,
     "end_time": "2025-07-09T10:18:37.453124",
     "exception": false,
     "start_time": "2025-07-09T10:18:37.187988",
     "status": "completed"
    },
    "tags": []
   },
   "outputs": [
    {
     "name": "stdout",
     "output_type": "stream",
     "text": [
      "                 Model  Accuracy  Precision  Recall  F1 Score\n",
      "0  Logistic Regression       1.0        1.0     1.0       1.0\n",
      "1        Random Forest       1.0        1.0     1.0       1.0\n",
      "2                  SVM       1.0        1.0     1.0       1.0\n"
     ]
    }
   ],
   "source": [
    "models = {\n",
    "    'Logistic Regression': LogisticRegression(max_iter=1000),\n",
    "    'Random Forest': RandomForestClassifier(),\n",
    "    'SVM': SVC()\n",
    "}\n",
    "\n",
    "results = []\n",
    "\n",
    "for name, model in models.items():\n",
    "    model.fit(X_train, y_train)\n",
    "    y_pred = model.predict(X_test)\n",
    "    results.append({\n",
    "        'Model': name,\n",
    "        'Accuracy': accuracy_score(y_test, y_pred),\n",
    "        'Precision': precision_score(y_test, y_pred, average='macro'),\n",
    "        'Recall': recall_score(y_test, y_pred, average='macro'),\n",
    "        'F1 Score': f1_score(y_test, y_pred, average='macro')\n",
    "    })\n",
    "\n",
    "df_results = pd.DataFrame(results)\n",
    "print(df_results)\n"
   ]
  },
  {
   "cell_type": "code",
   "execution_count": 4,
   "id": "a778e9d0",
   "metadata": {
    "execution": {
     "iopub.execute_input": "2025-07-09T10:18:37.458497Z",
     "iopub.status.busy": "2025-07-09T10:18:37.458195Z",
     "iopub.status.idle": "2025-07-09T10:18:47.243881Z",
     "shell.execute_reply": "2025-07-09T10:18:47.242784Z"
    },
    "papermill": {
     "duration": 9.790258,
     "end_time": "2025-07-09T10:18:47.245635",
     "exception": false,
     "start_time": "2025-07-09T10:18:37.455377",
     "status": "completed"
    },
    "tags": []
   },
   "outputs": [
    {
     "name": "stdout",
     "output_type": "stream",
     "text": [
      "Best Params (RF - GridSearchCV): {'max_depth': None, 'min_samples_split': 10, 'n_estimators': 10}\n"
     ]
    }
   ],
   "source": [
    "param_grid_rf = {\n",
    "    'n_estimators': [10, 50, 100],\n",
    "    'max_depth': [None, 5, 10],\n",
    "    'min_samples_split': [2, 5, 10]\n",
    "}\n",
    "\n",
    "grid_rf = GridSearchCV(RandomForestClassifier(), param_grid_rf, cv=5, scoring='accuracy')\n",
    "grid_rf.fit(X_train, y_train)\n",
    "\n",
    "print(\"Best Params (RF - GridSearchCV):\", grid_rf.best_params_)\n"
   ]
  },
  {
   "cell_type": "code",
   "execution_count": 5,
   "id": "073ea77c",
   "metadata": {
    "execution": {
     "iopub.execute_input": "2025-07-09T10:18:47.252481Z",
     "iopub.status.busy": "2025-07-09T10:18:47.251804Z",
     "iopub.status.idle": "2025-07-09T10:18:47.342813Z",
     "shell.execute_reply": "2025-07-09T10:18:47.341988Z"
    },
    "papermill": {
     "duration": 0.096265,
     "end_time": "2025-07-09T10:18:47.344451",
     "exception": false,
     "start_time": "2025-07-09T10:18:47.248186",
     "status": "completed"
    },
    "tags": []
   },
   "outputs": [
    {
     "name": "stdout",
     "output_type": "stream",
     "text": [
      "Best Params (SVM - RandomizedSearchCV): {'kernel': 'linear', 'gamma': 0.001, 'C': 1}\n"
     ]
    }
   ],
   "source": [
    "param_dist_svm = {\n",
    "    'C': [0.1, 1, 10, 100],\n",
    "    'gamma': [1, 0.1, 0.01, 0.001],\n",
    "    'kernel': ['rbf', 'linear']\n",
    "}\n",
    "\n",
    "random_svm = RandomizedSearchCV(SVC(), param_dist_svm, n_iter=10, cv=5, scoring='accuracy', random_state=42)\n",
    "random_svm.fit(X_train, y_train)\n",
    "\n",
    "print(\"Best Params (SVM - RandomizedSearchCV):\", random_svm.best_params_)\n"
   ]
  },
  {
   "cell_type": "code",
   "execution_count": 6,
   "id": "6936fefd",
   "metadata": {
    "execution": {
     "iopub.execute_input": "2025-07-09T10:18:47.350472Z",
     "iopub.status.busy": "2025-07-09T10:18:47.349946Z",
     "iopub.status.idle": "2025-07-09T10:18:47.369389Z",
     "shell.execute_reply": "2025-07-09T10:18:47.368417Z"
    },
    "papermill": {
     "duration": 0.023925,
     "end_time": "2025-07-09T10:18:47.370837",
     "exception": false,
     "start_time": "2025-07-09T10:18:47.346912",
     "status": "completed"
    },
    "tags": []
   },
   "outputs": [
    {
     "name": "stdout",
     "output_type": "stream",
     "text": [
      "Random Forest (Tuned):\n",
      "              precision    recall  f1-score   support\n",
      "\n",
      "           0       1.00      1.00      1.00        10\n",
      "           1       1.00      1.00      1.00         9\n",
      "           2       1.00      1.00      1.00        11\n",
      "\n",
      "    accuracy                           1.00        30\n",
      "   macro avg       1.00      1.00      1.00        30\n",
      "weighted avg       1.00      1.00      1.00        30\n",
      "\n",
      "SVM (Tuned):\n",
      "              precision    recall  f1-score   support\n",
      "\n",
      "           0       1.00      1.00      1.00        10\n",
      "           1       1.00      1.00      1.00         9\n",
      "           2       1.00      1.00      1.00        11\n",
      "\n",
      "    accuracy                           1.00        30\n",
      "   macro avg       1.00      1.00      1.00        30\n",
      "weighted avg       1.00      1.00      1.00        30\n",
      "\n"
     ]
    }
   ],
   "source": [
    "# Evaluate best Random Forest\n",
    "best_rf = grid_rf.best_estimator_\n",
    "y_pred_rf = best_rf.predict(X_test)\n",
    "print(\"Random Forest (Tuned):\")\n",
    "print(classification_report(y_test, y_pred_rf))\n",
    "\n",
    "# Evaluate best SVM\n",
    "best_svm = random_svm.best_estimator_\n",
    "y_pred_svm = best_svm.predict(X_test)\n",
    "print(\"SVM (Tuned):\")\n",
    "print(classification_report(y_test, y_pred_svm))\n"
   ]
  },
  {
   "cell_type": "code",
   "execution_count": 7,
   "id": "a7baade6",
   "metadata": {
    "execution": {
     "iopub.execute_input": "2025-07-09T10:18:47.376179Z",
     "iopub.status.busy": "2025-07-09T10:18:47.375921Z",
     "iopub.status.idle": "2025-07-09T10:18:47.396234Z",
     "shell.execute_reply": "2025-07-09T10:18:47.395202Z"
    },
    "papermill": {
     "duration": 0.024512,
     "end_time": "2025-07-09T10:18:47.397650",
     "exception": false,
     "start_time": "2025-07-09T10:18:47.373138",
     "status": "completed"
    },
    "tags": []
   },
   "outputs": [
    {
     "name": "stdout",
     "output_type": "stream",
     "text": [
      "                   Model  Accuracy  Precision  Recall  F1 Score\n",
      "0  Random Forest (Tuned)       1.0        1.0     1.0       1.0\n",
      "1            SVM (Tuned)       1.0        1.0     1.0       1.0\n"
     ]
    }
   ],
   "source": [
    "final_results = [\n",
    "    {\n",
    "        'Model': 'Random Forest (Tuned)',\n",
    "        'Accuracy': accuracy_score(y_test, y_pred_rf),\n",
    "        'Precision': precision_score(y_test, y_pred_rf, average='macro'),\n",
    "        'Recall': recall_score(y_test, y_pred_rf, average='macro'),\n",
    "        'F1 Score': f1_score(y_test, y_pred_rf, average='macro')\n",
    "    },\n",
    "    {\n",
    "        'Model': 'SVM (Tuned)',\n",
    "        'Accuracy': accuracy_score(y_test, y_pred_svm),\n",
    "        'Precision': precision_score(y_test, y_pred_svm, average='macro'),\n",
    "        'Recall': recall_score(y_test, y_pred_svm, average='macro'),\n",
    "        'F1 Score': f1_score(y_test, y_pred_svm, average='macro')\n",
    "    }\n",
    "]\n",
    "\n",
    "df_final = pd.DataFrame(final_results)\n",
    "print(df_final)\n"
   ]
  }
 ],
 "metadata": {
  "kaggle": {
   "accelerator": "none",
   "dataSources": [],
   "dockerImageVersionId": 31089,
   "isGpuEnabled": false,
   "isInternetEnabled": true,
   "language": "python",
   "sourceType": "notebook"
  },
  "kernelspec": {
   "display_name": "Python 3",
   "language": "python",
   "name": "python3"
  },
  "language_info": {
   "codemirror_mode": {
    "name": "ipython",
    "version": 3
   },
   "file_extension": ".py",
   "mimetype": "text/x-python",
   "name": "python",
   "nbconvert_exporter": "python",
   "pygments_lexer": "ipython3",
   "version": "3.11.13"
  },
  "papermill": {
   "default_parameters": {},
   "duration": 19.91531,
   "end_time": "2025-07-09T10:18:48.018887",
   "environment_variables": {},
   "exception": null,
   "input_path": "__notebook__.ipynb",
   "output_path": "__notebook__.ipynb",
   "parameters": {},
   "start_time": "2025-07-09T10:18:28.103577",
   "version": "2.6.0"
  }
 },
 "nbformat": 4,
 "nbformat_minor": 5
}
